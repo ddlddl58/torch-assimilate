{
 "cells": [
  {
   "cell_type": "code",
   "execution_count": 1,
   "metadata": {},
   "outputs": [],
   "source": [
    "import os\n",
    "import logging\n",
    "\n",
    "import numpy as np\n",
    "import xarray as xr\n",
    "import torch\n",
    "\n",
    "from tqdm import tqdm_notebook\n",
    "\n",
    "import pytassim\n",
    "from pytassim.generator import observation_generator"
   ]
  },
  {
   "cell_type": "code",
   "execution_count": 2,
   "metadata": {},
   "outputs": [],
   "source": [
    "logger = logging.getLogger()\n",
    "rnd = np.random.RandomState(42)\n",
    "data_path = '/scratch/local1/Data/neural_nets/neural_assim/data/'"
   ]
  },
  {
   "cell_type": "markdown",
   "metadata": {},
   "source": [
    "# General settings"
   ]
  },
  {
   "cell_type": "code",
   "execution_count": 3,
   "metadata": {},
   "outputs": [],
   "source": [
    "lead_time = 2"
   ]
  },
  {
   "cell_type": "markdown",
   "metadata": {},
   "source": [
    "# Load the data"
   ]
  },
  {
   "cell_type": "code",
   "execution_count": 4,
   "metadata": {},
   "outputs": [],
   "source": [
    "train_vr1_path = os.path.join(data_path, 'train_vr1.nc')\n",
    "train_ens_path = os.path.join(data_path, 'train_ens.nc')\n",
    "test_vr1_path = os.path.join(data_path, 'test_vr1.nc')\n",
    "test_ens_path = os.path.join(data_path, 'test_ens.nc')"
   ]
  },
  {
   "cell_type": "code",
   "execution_count": 5,
   "metadata": {},
   "outputs": [],
   "source": [
    "train_ens = xr.open_dataarray(train_ens_path)\n",
    "train_vr1 = xr.open_dataarray(train_vr1_path)\n",
    "test_ens = xr.open_dataarray(test_ens_path)\n",
    "test_vr1 = xr.open_dataarray(test_vr1_path)"
   ]
  },
  {
   "cell_type": "markdown",
   "metadata": {},
   "source": [
    "## Obs settings"
   ]
  },
  {
   "cell_type": "code",
   "execution_count": 6,
   "metadata": {},
   "outputs": [],
   "source": [
    "obs_bias = 0\n",
    "obs_std = 0.5\n",
    "obs_var = np.sqrt(obs_std)\n",
    "obs_random = rnd.normal\n",
    "obs_indices = [6, 17, 25, 36, 13]\n",
    "obs_timestep = 1"
   ]
  },
  {
   "cell_type": "code",
   "execution_count": 7,
   "metadata": {},
   "outputs": [
    {
     "name": "stderr",
     "output_type": "stream",
     "text": [
      "100%|██████████| 5/5 [00:00<00:00, 88.21it/s]\n",
      "100%|██████████| 5/5 [00:00<00:00, 215.29it/s]\n"
     ]
    }
   ],
   "source": [
    "train_obs = observation_generator(\n",
    "    train_vr1, obs_random, obs_indices, obs_timestep,\n",
    "    time_axis='time', loc=obs_bias, scale=obs_std\n",
    ")\n",
    "test_obs = observation_generator(\n",
    "    test_vr1, obs_random, obs_indices, obs_timestep,\n",
    "    time_axis='time', loc=obs_bias, scale=obs_std\n",
    ")"
   ]
  },
  {
   "cell_type": "code",
   "execution_count": 8,
   "metadata": {},
   "outputs": [],
   "source": [
    "obs_cov = xr.DataArray(\n",
    "    data=np.sqrt(obs_std)*np.identity(len(obs_indices)),\n",
    "    coords={\n",
    "        'obs_grid_1': train_obs.obs_grid_1.values,\n",
    "        'obs_grid_2': train_obs.obs_grid_1.values,\n",
    "    },\n",
    "    dims=('obs_grid_1', 'obs_grid_2')\n",
    ")\n",
    "\n",
    "train_obs = xr.Dataset(\n",
    "    {\n",
    "        'observations': train_obs,\n",
    "        'covariance': obs_cov\n",
    "    }\n",
    ")\n",
    "\n",
    "test_obs = xr.Dataset(\n",
    "    {\n",
    "        'observations': test_obs,\n",
    "        'covariance': obs_cov\n",
    "    }\n",
    ")"
   ]
  },
  {
   "cell_type": "code",
   "execution_count": 9,
   "metadata": {},
   "outputs": [],
   "source": [
    "def observation_operator(self, state):\n",
    "    pseudo_obs = state.sel(var_name='x')\n",
    "    # Nearest neighbor interpolation\n",
    "    pseudo_obs = pseudo_obs.sel(\n",
    "        time=self.ds.time.values,\n",
    "        grid=self.ds.obs_grid_1.values,\n",
    "        method='nearest')\n",
    "    pseudo_obs = pseudo_obs.rename(grid='obs_grid_1')\n",
    "    pseudo_obs['time'] = self.ds.time.values\n",
    "    pseudo_obs['obs_grid_1'] = self.ds.obs_grid_1.values\n",
    "    return pseudo_obs"
   ]
  },
  {
   "cell_type": "code",
   "execution_count": 10,
   "metadata": {},
   "outputs": [],
   "source": [
    "train_hx = train_ens.sel(time=lead_time).drop('time').rename(analysis='time')\n",
    "train_hx['time'] += lead_time\n",
    "\n",
    "test_hx = test_ens.sel(time=lead_time).drop('time').rename(analysis='time')\n",
    "test_hx['time'] += lead_time"
   ]
  },
  {
   "cell_type": "code",
   "execution_count": 11,
   "metadata": {},
   "outputs": [],
   "source": [
    "train_obs = train_obs.sel(time=train_hx.time.values[:-1])\n",
    "test_obs = test_obs.sel(time=test_hx.time.values[:-1])"
   ]
  },
  {
   "cell_type": "code",
   "execution_count": 12,
   "metadata": {},
   "outputs": [],
   "source": [
    "train_obs.obs.operator = observation_operator\n",
    "test_obs.obs.operator = observation_operator"
   ]
  },
  {
   "cell_type": "code",
   "execution_count": 13,
   "metadata": {},
   "outputs": [],
   "source": [
    "train_hx = train_obs.obs.operator(train_hx)\n",
    "test_hx = test_obs.obs.operator(test_hx)"
   ]
  },
  {
   "cell_type": "code",
   "execution_count": 14,
   "metadata": {},
   "outputs": [],
   "source": [
    "train_mean, train_perts = train_hx.state.split_mean_perts()\n",
    "test_mean, test_perts = test_hx.state.split_mean_perts()"
   ]
  },
  {
   "cell_type": "code",
   "execution_count": 15,
   "metadata": {},
   "outputs": [],
   "source": [
    "train_innov = train_obs['observations'] - train_mean\n",
    "test_innov = test_obs['observations'] - test_mean"
   ]
  },
  {
   "cell_type": "markdown",
   "metadata": {},
   "source": [
    "# Define model etc"
   ]
  },
  {
   "cell_type": "code",
   "execution_count": 16,
   "metadata": {},
   "outputs": [],
   "source": [
    "class VAETKF(torch.nn.Module):\n",
    "    def __init__(self):\n",
    "        super().__init__()\n",
    "        self.gain_wo_op = torch.nn.Linear(\n",
    "            len(obs_indices), len(obs_indices)\n",
    "        )\n",
    "        \n",
    "    def forward(self, innov, hx_perts):\n",
    "        ana_mean = torch.matmul(self.gain_wo_op(innov), torch.transpose(hx_perts, dim0=1, dim1=2))\n",
    "        recon_innov = torch.matmul(ana_mean, hx_perts)\n",
    "        return ana_mean, recon_innov"
   ]
  },
  {
   "cell_type": "code",
   "execution_count": 17,
   "metadata": {},
   "outputs": [],
   "source": [
    "model = VAETKF().cuda()\n",
    "optimizer = torch.optim.Adam(model.parameters(), lr=1e-3)"
   ]
  },
  {
   "cell_type": "code",
   "execution_count": 18,
   "metadata": {},
   "outputs": [],
   "source": [
    "def loss_function(recon_innov, innov, ana_mean):\n",
    "    mse_scaled = torch.mean(torch.sum(innov - recon_innov, dim=1)**2 / obs_var)\n",
    "    kl_scaled = torch.mean(49 * torch.sum(ana_mean, dim=1)**2)\n",
    "    return mse_scaled + kl_scaled"
   ]
  },
  {
   "cell_type": "markdown",
   "metadata": {},
   "source": [
    "# Train model"
   ]
  },
  {
   "cell_type": "code",
   "execution_count": 19,
   "metadata": {},
   "outputs": [],
   "source": [
    "BATCH_SIZE = 64\n",
    "EPOCHS = 35\n",
    "train_samples = len(train_innov.time)\n",
    "nr_iters_p_epoch = train_samples//BATCH_SIZE"
   ]
  },
  {
   "cell_type": "code",
   "execution_count": 20,
   "metadata": {},
   "outputs": [],
   "source": [
    "train_innov_t = torch.tensor(train_innov.values).float().cuda()\n",
    "test_innov_t = torch.tensor(test_innov.values).float().cuda()"
   ]
  },
  {
   "cell_type": "code",
   "execution_count": 21,
   "metadata": {},
   "outputs": [],
   "source": [
    "train_perts_t = torch.tensor(train_perts.values).float().cuda()\n",
    "test_perts_t = torch.tensor(test_perts.values).float().cuda()"
   ]
  },
  {
   "cell_type": "code",
   "execution_count": 24,
   "metadata": {},
   "outputs": [
    {
     "data": {
      "text/plain": [
       "HBox(children=(IntProgress(value=0, max=35), HTML(value='')))"
      ]
     },
     "metadata": {},
     "output_type": "display_data"
    },
    {
     "name": "stdout",
     "output_type": "stream",
     "text": [
      "18328.435546875\n",
      "2096.043212890625\n",
      "Finished epoch 1, loss:2096.04\n",
      "4789.330078125\n",
      "1372.94384765625\n",
      "Finished epoch 2, loss:1372.94\n",
      "861.02685546875\n",
      "1625.4134521484375\n",
      "Finished epoch 3, loss:1625.41\n",
      "\n"
     ]
    }
   ],
   "source": [
    "for e in tqdm_notebook(range(EPOCHS)):\n",
    "    np_ind = rnd.choice(\n",
    "        train_samples, size=nr_iters_p_epoch*BATCH_SIZE\n",
    "    )\n",
    "    train_innov_epoch = train_innov_t[np_ind]\n",
    "    train_perts_epoch = train_perts_t[np_ind]\n",
    "    running_loss = 0\n",
    "    for it in range(nr_iters_p_epoch):\n",
    "        train_innov_batch = train_innov_epoch[it*BATCH_SIZE:(it+1)*BATCH_SIZE]\n",
    "        train_perts_batch = train_perts_epoch[it*BATCH_SIZE:(it+1)*BATCH_SIZE]\n",
    "        \n",
    "        optimizer.zero_grad()\n",
    "        ana_mean, recon_innov = model(train_innov_batch, train_perts_batch)\n",
    "        loss = loss_function(recon_innov, train_innov_batch, ana_mean)\n",
    "        loss.backward()\n",
    "        optimizer.step()\n",
    "    test_ana_mean, test_recon_innov = model(test_innov_t, test_perts_t)\n",
    "    old_loss = loss.item()\n",
    "    val_loss = loss_function(test_recon_innov, test_innov_t, test_ana_mean)\n",
    "    new_loss = val_loss.item()\n",
    "    print(old_loss)\n",
    "    print(new_loss)\n",
    "    print('Finished epoch {0:d}, loss:{1:.2f}'.format(e+1, new_loss))\n",
    "    if new_loss > old_loss:\n",
    "        break"
   ]
  },
  {
   "cell_type": "code",
   "execution_count": 33,
   "metadata": {},
   "outputs": [
    {
     "data": {
      "text/plain": [
       "torch.Size([400, 400, 50])"
      ]
     },
     "execution_count": 33,
     "metadata": {},
     "output_type": "execute_result"
    }
   ],
   "source": [
    "model(test_innov_t, test_perts_t)[0].size()"
   ]
  },
  {
   "cell_type": "code",
   "execution_count": 31,
   "metadata": {},
   "outputs": [
    {
     "data": {
      "text/plain": [
       "torch.Size([400, 50])"
      ]
     },
     "execution_count": 31,
     "metadata": {},
     "output_type": "execute_result"
    }
   ],
   "source": [
    "w_mean.shape"
   ]
  },
  {
   "cell_type": "code",
   "execution_count": null,
   "metadata": {},
   "outputs": [],
   "source": []
  }
 ],
 "metadata": {
  "kernelspec": {
   "display_name": "Python [conda env:pytassim-dev]",
   "language": "python",
   "name": "conda-env-pytassim-dev-py"
  },
  "language_info": {
   "codemirror_mode": {
    "name": "ipython",
    "version": 3
   },
   "file_extension": ".py",
   "mimetype": "text/x-python",
   "name": "python",
   "nbconvert_exporter": "python",
   "pygments_lexer": "ipython3",
   "version": "3.6.6"
  }
 },
 "nbformat": 4,
 "nbformat_minor": 2
}
