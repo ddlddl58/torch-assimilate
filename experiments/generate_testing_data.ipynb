{
 "cells": [
  {
   "cell_type": "code",
   "execution_count": null,
   "metadata": {},
   "outputs": [],
   "source": [
    "from enkf_lorenz.models import Lorenz96\n",
    "from enkf_lorenz.integrator import RK4Integrator\n",
    "from enkf_lorenz.utilities import forward_model\n",
    "from enkf_lorenz.observation.generator import observation_generator\n",
    "from enkf_lorenz.assimilation import Letkf\n",
    "\n",
    "import tensorflow as tf\n",
    "import keras.backend as k_backend\n",
    "import numpy as np\n",
    "import logging\n",
    "import xarray as xr\n",
    "import matplotlib.pyplot as plt\n",
    "from tqdm import tqdm_notebook\n",
    "\n",
    "from model_dense import load_model"
   ]
  },
  {
   "cell_type": "code",
   "execution_count": null,
   "metadata": {},
   "outputs": [],
   "source": [
    "rnd = np.random.RandomState(1)"
   ]
  },
  {
   "cell_type": "code",
   "execution_count": null,
   "metadata": {},
   "outputs": [],
   "source": [
    "model_path = '/scratch/local1/Data/neural_nets/neural_assim/models/lorenz_dense_cycle_mem_201806221357/model-5'"
   ]
  },
  {
   "cell_type": "markdown",
   "metadata": {},
   "source": [
    "# Virtual reality"
   ]
  },
  {
   "cell_type": "code",
   "execution_count": null,
   "metadata": {},
   "outputs": [],
   "source": [
    "# Before this number of days the run will be used as initialization\n",
    "start = 1000\n",
    "# The timedelta in model time unit 0.05 ~ 6 hours\n",
    "dt = 0.05\n",
    "dt_days = dt*5\n",
    "\n",
    "end = 730 + start\n",
    "\n",
    "all_steps = np.arange(0, end+dt_days, dt_days) \n",
    "all_steps = np.arange(0, end+dt_days, dt_days) \n",
    "\n",
    "nr_grids = 40"
   ]
  },
  {
   "cell_type": "code",
   "execution_count": null,
   "metadata": {},
   "outputs": [],
   "source": [
    "start_state = rnd.normal(0, 0.01, size=(1, nr_grids))\n",
    "F = 8"
   ]
  },
  {
   "cell_type": "code",
   "execution_count": null,
   "metadata": {},
   "outputs": [],
   "source": [
    "l96_vr1 = Lorenz96(F, nr_grids)\n",
    "vr1_integrator = RK4Integrator(l96_vr1, dt=dt)"
   ]
  },
  {
   "cell_type": "code",
   "execution_count": null,
   "metadata": {},
   "outputs": [],
   "source": [
    "ds_vr1 = forward_model(\n",
    "    all_steps, start, start_state, vr1_integrator, nr_grids=nr_grids\n",
    ")"
   ]
  },
  {
   "cell_type": "markdown",
   "metadata": {},
   "source": [
    "# Observations"
   ]
  },
  {
   "cell_type": "code",
   "execution_count": null,
   "metadata": {},
   "outputs": [],
   "source": [
    "obs_bias = 0\n",
    "obs_std = 0.3\n",
    "obs_random = rnd.normal\n",
    "obs_indices = [6, 17, 25, 36, 13]\n",
    "obs_timestep = 2"
   ]
  },
  {
   "cell_type": "code",
   "execution_count": null,
   "metadata": {},
   "outputs": [],
   "source": [
    "ds_obs = observation_generator(ds_vr1, obs_random, obs_indices, obs_timestep,\n",
    "                               time_axis='time', loc=obs_bias, scale=obs_std)"
   ]
  },
  {
   "cell_type": "code",
   "execution_count": null,
   "metadata": {},
   "outputs": [],
   "source": [
    "ds_vr1.to_netcdf('/scratch/local1/Data/lorenz_test/vr1_test.nc')"
   ]
  },
  {
   "cell_type": "code",
   "execution_count": null,
   "metadata": {},
   "outputs": [],
   "source": [
    "ds_obs.to_netcdf('/scratch/local1/Data/lorenz_test/obs_test.nc')"
   ]
  },
  {
   "cell_type": "markdown",
   "metadata": {},
   "source": [
    "# Assimilation models"
   ]
  },
  {
   "cell_type": "code",
   "execution_count": null,
   "metadata": {},
   "outputs": [],
   "source": [
    "letkf = Letkf(loc_radius=99, obs_err=0.3, adap_inflation=False)"
   ]
  },
  {
   "cell_type": "markdown",
   "metadata": {},
   "source": [
    "# Set up ensemble"
   ]
  },
  {
   "cell_type": "code",
   "execution_count": null,
   "metadata": {},
   "outputs": [],
   "source": [
    "ens_size = 50\n",
    "\n",
    "# Lets say that the ensemble forcing has a little bias and a pertubation of roundabout 6%\n",
    "ens_f = rnd.normal(0, 0.5, size=(1, ens_size, 1)) + F\n",
    "\n",
    "# Intialize the ensemble model and the integrator\n",
    "l96_ensemble = Lorenz96(ens_f, nr_grids)\n",
    "ensemble_integrator = RK4Integrator(l96_ensemble, dt=dt)"
   ]
  },
  {
   "cell_type": "code",
   "execution_count": null,
   "metadata": {},
   "outputs": [],
   "source": [
    "# Perturbations of the ensemble initial state are roundabout 10 % of the interspatial variability of VR1\n",
    "ens_pert_std = 0.3\n",
    "\n",
    "# We want to start every fifth day of VR1 a new ensemble run\n",
    "ens_ana_time = obs_timestep\n",
    "\n",
    "# Our forecast time is five days to get the same amount of samples as in VR1\n",
    "ens_lead_time = 5\n",
    "\n",
    "ens_fcst_steps = np.arange(0, ens_lead_time, dt_days)"
   ]
  },
  {
   "cell_type": "code",
   "execution_count": null,
   "metadata": {},
   "outputs": [],
   "source": [
    "start_state = ds_vr1.isel(time=0)"
   ]
  },
  {
   "cell_type": "code",
   "execution_count": null,
   "metadata": {},
   "outputs": [],
   "source": [
    "ens_start_pert = rnd.normal(0, 0.5, size=(1, ens_size, nr_grids))\n",
    "ens_start_state = xr.DataArray(\n",
    "    data = ens_start_pert,\n",
    "    coords = dict(\n",
    "        varname=['T', ],\n",
    "        grid=np.arange(nr_grids),\n",
    "        ensemble=np.arange(ens_size)\n",
    "    ),\n",
    "    dims = ['varname', 'ensemble', 'grid',]\n",
    ")\n",
    "ens_start_state = ens_start_state + ds_vr1.isel(time=0)"
   ]
  },
  {
   "cell_type": "markdown",
   "metadata": {},
   "source": [
    "## Assimilation with the LETKF"
   ]
  },
  {
   "cell_type": "code",
   "execution_count": null,
   "metadata": {},
   "outputs": [],
   "source": [
    "letkf_forecasts = []\n",
    "analysis = None\n",
    "latest_state = ens_start_state\n",
    "for obs_time in tqdm_notebook(ds_obs.time):\n",
    "    if analysis is not None:\n",
    "        analysis = letkf.assimilate(analysis, ds_obs, analysis_time=obs_time)\n",
    "        latest_state = analysis.squeeze(dim='varname')\n",
    "    ensemble_forecast = forward_model(\n",
    "        ens_fcst_steps, 0,\n",
    "        latest_state.values,\n",
    "        ensemble_integrator,\n",
    "        nr_grids=nr_grids, ens_mems=ens_size\n",
    "    )\n",
    "    letkf_forecasts.append(ensemble_forecast)\n",
    "    analysis = ensemble_forecast.sel(\n",
    "        time=slice(ens_ana_time, ens_ana_time), drop=False\n",
    "    )\n",
    "    analysis['time'] += obs_time"
   ]
  },
  {
   "cell_type": "code",
   "execution_count": null,
   "metadata": {},
   "outputs": [],
   "source": [
    "letkf_concated = xr.concat(letkf_forecasts, dim='analysis').dropna('time')\n",
    "letkf_concated['analysis'] = ds_obs.time.values\n",
    "letkf_concated = letkf_concated.squeeze()"
   ]
  },
  {
   "cell_type": "code",
   "execution_count": null,
   "metadata": {},
   "outputs": [],
   "source": [
    "letkf_concated.to_netcdf('/scratch/local1/Data/lorenz_test/letkf_test.nc')"
   ]
  },
  {
   "cell_type": "code",
   "execution_count": null,
   "metadata": {},
   "outputs": [],
   "source": []
  }
 ],
 "metadata": {
  "kernelspec": {
   "display_name": "Python [default]",
   "language": "python",
   "name": "python3"
  },
  "language_info": {
   "codemirror_mode": {
    "name": "ipython",
    "version": 3
   },
   "file_extension": ".py",
   "mimetype": "text/x-python",
   "name": "python",
   "nbconvert_exporter": "python",
   "pygments_lexer": "ipython3",
   "version": "3.6.4"
  }
 },
 "nbformat": 4,
 "nbformat_minor": 2
}
