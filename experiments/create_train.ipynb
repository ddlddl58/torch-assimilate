{
 "cells": [
  {
   "cell_type": "code",
   "execution_count": 1,
   "metadata": {
    "collapsed": true
   },
   "outputs": [],
   "source": [
    "import os\n",
    "import contextlib\n",
    "\n",
    "from pytassim.model.integration import RK4Integrator\n",
    "from pytassim.model import Lorenz96\n",
    "from pytassim.model.forward_model import forward_model\n",
    "\n",
    "import numpy as np\n",
    "import xarray as xr\n",
    "import torch\n",
    "\n",
    "\n",
    "from tqdm import tqdm_notebook\n",
    "\n",
    "import logging"
   ]
  },
  {
   "cell_type": "code",
   "execution_count": 2,
   "metadata": {},
   "outputs": [],
   "source": [
    "logging.basicConfig(level=logging.WARNING)\n",
    "logger = logging.getLogger(__name__)"
   ]
  },
  {
   "cell_type": "code",
   "execution_count": 3,
   "metadata": {
    "collapsed": true
   },
   "outputs": [],
   "source": [
    "rnd = np.random.RandomState(42)\n",
    "\n",
    "BASE_PATH = '/scratch/local1/Data/neural_nets/neural_assim/data/'"
   ]
  },
  {
   "cell_type": "markdown",
   "metadata": {},
   "source": [
    "General time and grid settings"
   ]
  },
  {
   "cell_type": "code",
   "execution_count": 4,
   "metadata": {
    "collapsed": true
   },
   "outputs": [],
   "source": [
    "# Before this number of days the run will be used as initialization\n",
    "start_point = 1000\n",
    "# The timedelta in model time unit 0.05 ~ 6 hours\n",
    "dt = 0.05\n",
    "dt_days = dt*5\n",
    "\n",
    "end = 20000+start_point\n",
    "\n",
    "all_steps = np.arange(0, end+dt_days, dt_days) \n",
    "\n",
    "nr_grids = 40"
   ]
  },
  {
   "cell_type": "markdown",
   "metadata": {},
   "source": [
    "Special settings for VR1"
   ]
  },
  {
   "cell_type": "code",
   "execution_count": 5,
   "metadata": {},
   "outputs": [],
   "source": [
    "start_state = rnd.normal(0, 0.01, size=(1, nr_grids))\n",
    "F = 8.0"
   ]
  },
  {
   "cell_type": "markdown",
   "metadata": {},
   "source": [
    "Initialize VR1"
   ]
  },
  {
   "cell_type": "code",
   "execution_count": 6,
   "metadata": {},
   "outputs": [],
   "source": [
    "l96_vr1 = Lorenz96(forcing=F)\n",
    "vr1_integrator = RK4Integrator(l96_vr1, dt=dt)"
   ]
  },
  {
   "cell_type": "markdown",
   "metadata": {},
   "source": [
    "Generate the VR1 dataset"
   ]
  },
  {
   "cell_type": "code",
   "execution_count": 7,
   "metadata": {},
   "outputs": [
    {
     "name": "stderr",
     "output_type": "stream",
     "text": []
    }
   ],
   "source": [
    "ds_vr1 = forward_model(all_steps, start_point, torch.tensor(start_state), vr1_integrator)"
   ]
  },
  {
   "cell_type": "markdown",
   "metadata": {},
   "source": [
    "Settings for observations"
   ]
  },
  {
   "cell_type": "markdown",
   "metadata": {},
   "source": [
    "Save VR1"
   ]
  },
  {
   "cell_type": "code",
   "execution_count": 8,
   "metadata": {},
   "outputs": [],
   "source": [
    "vr1_path = os.path.join(BASE_PATH, 'train_vr1.nc')\n",
    "ds_vr1.to_netcdf(vr1_path)"
   ]
  },
  {
   "cell_type": "markdown",
   "metadata": {},
   "source": [
    "# Generate Ensemble"
   ]
  },
  {
   "cell_type": "code",
   "execution_count": 9,
   "metadata": {},
   "outputs": [],
   "source": [
    "ens_size = 50\n",
    "\n",
    "# Lets say that the ensemble forcing has a little bias and a pertubation of roundabout 6%\n",
    "ens_f = torch.tensor(rnd.normal(0, 0.5, size=(1, ens_size, 1)) + F)\n",
    "\n",
    "# Intialize the ensemble model and the integrator\n",
    "l96_ensemble = Lorenz96(ens_f)\n",
    "ensemble_integrator = RK4Integrator(l96_ensemble, dt=dt)"
   ]
  },
  {
   "cell_type": "code",
   "execution_count": 10,
   "metadata": {},
   "outputs": [],
   "source": [
    "# Perturbations of the ensemble initial state are roundabout 10 % of the interspatial variability of VR1\n",
    "ens_pert_std = 2.0\n",
    "\n",
    "# We want to start every fifth day of VR1 a new ensemble run\n",
    "ens_ana_time = 5\n",
    "\n",
    "# Our forecast time is five days to get the same amount of samples as in VR1\n",
    "ens_lead_time = 5\n",
    "\n",
    "ens_fcst_steps = np.arange(0, ens_lead_time, dt_days)"
   ]
  },
  {
   "cell_type": "code",
   "execution_count": 11,
   "metadata": {},
   "outputs": [],
   "source": [
    "base_states = ds_vr1.sel(time=ds_vr1.time%ens_ana_time==0)"
   ]
  },
  {
   "cell_type": "code",
   "execution_count": 12,
   "metadata": {},
   "outputs": [
    {
     "data": {
      "application/vnd.jupyter.widget-view+json": {
       "model_id": "97054afc52a7417ca8e048b71c09988b",
       "version_major": 2,
       "version_minor": 0
      },
      "text/plain": [
       "HBox(children=(IntProgress(value=0, max=4001), HTML(value='')))"
      ]
     },
     "metadata": {},
     "output_type": "display_data"
    }
   ],
   "source": [
    "ensemble_data = []\n",
    "\n",
    "pbar = tqdm_notebook(total=len(base_states.time.values))"
   ]
  },
  {
   "cell_type": "code",
   "execution_count": 13,
   "metadata": {},
   "outputs": [],
   "source": [
    "%%capture\n",
    "for ana_time in base_states.time.values:\n",
    "    tmp_state = rnd.normal(scale=ens_pert_std, size=(ens_size, 1, 40))\n",
    "    tmp_state = tmp_state + base_states.sel(time=ana_time).values\n",
    "    tmp_state = tmp_state.transpose(1, 0, 2)\n",
    "    ens_fcst = forward_model(ens_fcst_steps, 0, torch.tensor(tmp_state), ensemble_integrator)\n",
    "    ens_fcst_vals = ens_fcst.values\n",
    "    ensemble_data.append(ens_fcst_vals)\n",
    "    pbar.update()"
   ]
  },
  {
   "cell_type": "code",
   "execution_count": 14,
   "metadata": {},
   "outputs": [],
   "source": [
    "ensemble_data = np.array(ensemble_data).transpose(1, 0, 2, 3, 4)\n",
    "ensemble_coords = dict(ens_fcst.coords)\n",
    "ensemble_coords['analysis'] = base_states.time.values"
   ]
  },
  {
   "cell_type": "code",
   "execution_count": 15,
   "metadata": {},
   "outputs": [],
   "source": [
    "ensemble_ds = xr.DataArray(\n",
    "    data = ensemble_data,\n",
    "    coords = ensemble_coords,\n",
    "    dims = ['var_name', 'analysis', 'time', 'ensemble', 'grid']\n",
    ")"
   ]
  },
  {
   "cell_type": "code",
   "execution_count": 16,
   "metadata": {},
   "outputs": [],
   "source": [
    "ens_path = os.path.join(BASE_PATH, 'train_ens.nc')\n",
    "ensemble_ds.to_netcdf(ens_path)"
   ]
  },
  {
   "cell_type": "code",
   "execution_count": null,
   "metadata": {},
   "outputs": [],
   "source": []
  }
 ],
 "metadata": {
  "anaconda-cloud": {},
  "kernelspec": {
   "display_name": "Python [conda env:pytassim-dev]",
   "language": "python",
   "name": "conda-env-pytassim-dev-py"
  },
  "language_info": {
   "codemirror_mode": {
    "name": "ipython",
    "version": 3
   },
   "file_extension": ".py",
   "mimetype": "text/x-python",
   "name": "python",
   "nbconvert_exporter": "python",
   "pygments_lexer": "ipython3",
   "version": "3.6.6"
  }
 },
 "nbformat": 4,
 "nbformat_minor": 2
}
